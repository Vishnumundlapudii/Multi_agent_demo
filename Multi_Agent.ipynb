{
 "cells": [
  {
   "cell_type": "markdown",
   "id": "8773f4fe-c055-46e7-aaac-88fb770778d2",
   "metadata": {},
   "source": [
    "## Multi Agent"
   ]
  },
  {
   "cell_type": "markdown",
   "id": "c5102a7a-21f8-4c6d-a258-e25b12419175",
   "metadata": {
    "jp-MarkdownHeadingCollapsed": true
   },
   "source": [
    "### Imports"
   ]
  },
  {
   "cell_type": "code",
   "execution_count": 17,
   "id": "4dde3a32-a0a2-4af5-9718-b8800ad29498",
   "metadata": {},
   "outputs": [],
   "source": [
    "%%capture --no-stderr\n",
    "%pip install --quiet -U langchain==0.1.14 langchain-core==0.1.36 langgraph==0.0.40 langchain-openai==0.1.3 openai==1.23.2"
   ]
  },
  {
   "cell_type": "code",
   "execution_count": 32,
   "id": "acac2e98-9a65-4fc5-898d-65d3f921190b",
   "metadata": {},
   "outputs": [],
   "source": [
    "%%capture --no-stderr\n",
    "! pip install langchain_openai"
   ]
  },
  {
   "cell_type": "code",
   "execution_count": 33,
   "id": "ae17104d-0dbd-4eeb-91c8-435ee229b252",
   "metadata": {},
   "outputs": [],
   "source": [
    "%%capture --no-stderr\n",
    "! pip install langgraph-supervisor"
   ]
  },
  {
   "cell_type": "code",
   "execution_count": null,
   "id": "fb3212c5-bc0a-4c4e-b7a7-470d30fb7127",
   "metadata": {},
   "outputs": [],
   "source": []
  },
  {
   "cell_type": "markdown",
   "id": "8ec0c68a-ae94-4471-9686-fe2d8f203ad9",
   "metadata": {},
   "source": [
    "### Model"
   ]
  },
  {
   "cell_type": "code",
   "execution_count": 22,
   "id": "36e74986-d6e5-4f37-9fa8-90cf36e15e5e",
   "metadata": {},
   "outputs": [],
   "source": [
    "from langchain_openai import ChatOpenAI\n",
    "\n",
    "from langgraph_supervisor import create_supervisor\n",
    "from langgraph.prebuilt import create_react_agent"
   ]
  },
  {
   "cell_type": "code",
   "execution_count": 23,
   "id": "cd3fd05f-35c8-41e4-9f2f-c86d45853c77",
   "metadata": {},
   "outputs": [],
   "source": [
    "llm_model = ChatOpenAI(temperature=0.0, \n",
    "                        model=\"gpt-4-turbo\",\n",
    "                       openai_api_key=\"XXXX\")"
   ]
  },
  {
   "cell_type": "code",
   "execution_count": null,
   "id": "0eb15442-b3b2-4847-a9ec-4428eed7b8cf",
   "metadata": {},
   "outputs": [],
   "source": []
  },
  {
   "cell_type": "markdown",
   "id": "127b5a55-5b3f-4ee1-ba20-7b0932067d8c",
   "metadata": {},
   "source": [
    "### Tools"
   ]
  },
  {
   "cell_type": "code",
   "execution_count": 24,
   "id": "61409e68-2d04-447c-a7e3-8b2a5ef51c9f",
   "metadata": {},
   "outputs": [],
   "source": [
    "def add(a: float, b: float) -> float:\n",
    "    \"\"\"Add two numbers.\"\"\"\n",
    "    return a + b\n",
    "\n",
    "def multiply(a: float, b: float) -> float:\n",
    "    \"\"\"Multiply two numbers.\"\"\"\n",
    "    return a * b\n",
    "\n",
    "def web_search(query: str) -> str:\n",
    "    \"\"\"Search the web for information.\"\"\"\n",
    "    return (\n",
    "        \"Here are the headcounts for each of the FAANG companies in 2024:\\n\"\n",
    "        \"1. **Facebook (Meta)**: 67,317 employees.\\n\"\n",
    "        \"2. **Apple**: 164,000 employees.\\n\"\n",
    "        \"3. **Amazon**: 1,551,000 employees.\\n\"\n",
    "        \"4. **Netflix**: 14,000 employees.\\n\"\n",
    "        \"5. **Google (Alphabet)**: 181,269 employees.\"\n",
    "    )"
   ]
  },
  {
   "cell_type": "code",
   "execution_count": null,
   "id": "bba7fb64-e905-495e-a365-adc1cfa0573c",
   "metadata": {},
   "outputs": [],
   "source": []
  },
  {
   "cell_type": "markdown",
   "id": "0ce605fd-fade-497a-ad8a-eadddcb63006",
   "metadata": {},
   "source": [
    "### Agents"
   ]
  },
  {
   "cell_type": "code",
   "execution_count": 25,
   "id": "4cca69bc-9292-4a7e-985f-4e6fe294c8c3",
   "metadata": {},
   "outputs": [],
   "source": [
    "math_agent = create_react_agent(\n",
    "    model=llm_model,\n",
    "    tools=[add, multiply],\n",
    "    name=\"math_expert\",\n",
    "    prompt=\"You are a math expert. Always use one tool at a time.\"\n",
    ")\n",
    "\n",
    "research_agent = create_react_agent(\n",
    "    model=llm_model,\n",
    "    tools=[web_search],\n",
    "    name=\"research_expert\",\n",
    "    prompt=\"You are a world class researcher with access to web search. Do not do any math.\"\n",
    ")"
   ]
  },
  {
   "cell_type": "code",
   "execution_count": null,
   "id": "e375689a-6b66-41ab-b21f-a7a786d415de",
   "metadata": {},
   "outputs": [],
   "source": []
  },
  {
   "cell_type": "markdown",
   "id": "3ee38d2e-cf33-4cad-8cb8-ec837a519de4",
   "metadata": {},
   "source": [
    "### Supervisor"
   ]
  },
  {
   "cell_type": "code",
   "execution_count": 26,
   "id": "cbb4838e-884d-4bab-ae0e-e03992e7753f",
   "metadata": {},
   "outputs": [],
   "source": [
    "# Create supervisor workflow\n",
    "workflow = create_supervisor(\n",
    "    [research_agent, math_agent],\n",
    "    model=llm_model,\n",
    "    prompt=(\n",
    "        \"You are a team supervisor managing a research expert and a math expert. \"\n",
    "        \"For current events, use research_agent. \"\n",
    "        \"For math problems, use math_agent.\"\n",
    "    )\n",
    ")\n"
   ]
  },
  {
   "cell_type": "code",
   "execution_count": 27,
   "id": "34ab14d0-696f-491d-9292-c54e5058d8c5",
   "metadata": {},
   "outputs": [],
   "source": [
    "# Compile and run\n",
    "app = workflow.compile()"
   ]
  },
  {
   "cell_type": "code",
   "execution_count": 28,
   "id": "9e238fc4-3041-4f9e-99e4-52b0fe67b2f1",
   "metadata": {},
   "outputs": [
    {
     "data": {
      "image/png": "[encoded data removed]",
      "text/plain": [
       "<langgraph.graph.state.CompiledStateGraph object at 0x114d351d0>"
      ]
     },
     "execution_count": 28,
     "metadata": {},
     "output_type": "execute_result"
    }
   ],
   "source": [
    "app"
   ]
  },
  {
   "cell_type": "code",
   "execution_count": null,
   "id": "f02eb450-16fc-4c9a-bcbf-954195ed2313",
   "metadata": {},
   "outputs": [],
   "source": []
  },
  {
   "cell_type": "code",
   "execution_count": 29,
   "id": "0b72c969-ea02-461b-a7b5-336aae145adc",
   "metadata": {},
   "outputs": [],
   "source": [
    "result = app.invoke({\n",
    "    \"messages\": [\n",
    "        {\n",
    "            \"role\": \"user\",\n",
    "            \"content\": \"what's the combined headcount of the FAANG companies in 2024?\"\n",
    "        }\n",
    "    ]\n",
    "})"
   ]
  },
  {
   "cell_type": "code",
   "execution_count": null,
   "id": "53bdffb2-b8e0-4700-9753-f840e1ecba68",
   "metadata": {},
   "outputs": [],
   "source": []
  },
  {
   "cell_type": "code",
   "execution_count": 30,
   "id": "3ca1e7b6-eddb-450f-b55c-f0acb5bc0282",
   "metadata": {},
   "outputs": [
    {
     "data": {
      "text/plain": [
       "'The combined headcount of the FAANG companies in 2024 is approximately 1,977,586 employees.'"
      ]
     },
     "execution_count": 30,
     "metadata": {},
     "output_type": "execute_result"
    }
   ],
   "source": [
    "result['messages'][-1].content"
   ]
  },
  {
   "cell_type": "code",
   "execution_count": null,
   "id": "1259b10a-80af-4d72-b5e3-3e729d5285bb",
   "metadata": {},
   "outputs": [],
   "source": []
  },
  {
   "cell_type": "code",
   "execution_count": null,
   "id": "8282e900-5d1d-40e3-84e8-9f3672ba83a0",
   "metadata": {},
   "outputs": [],
   "source": []
  }
 ],
 "metadata": {
  "kernelspec": {
   "display_name": "Python 3 (ipykernel)",
   "language": "python",
   "name": "python3"
  },
  "language_info": {
   "codemirror_mode": {
    "name": "ipython",
    "version": 3
   },
   "file_extension": ".py",
   "mimetype": "text/x-python",
   "name": "python",
   "nbconvert_exporter": "python",
   "pygments_lexer": "ipython3",
   "version": "3.11.11"
  }
 },
 "nbformat": 4,
 "nbformat_minor": 5
}
