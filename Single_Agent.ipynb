{
 "cells": [
  {
   "cell_type": "markdown",
   "id": "f7fc8b15-efc3-49e2-b5c5-8006c63525c0",
   "metadata": {},
   "source": [
    "## First AI Agent"
   ]
  },
  {
   "cell_type": "code",
   "execution_count": 1,
   "id": "9990cecc-f122-41f6-a372-22d807428859",
   "metadata": {},
   "outputs": [],
   "source": [
    "%%capture --no-stderr\n",
    "%pip install --quiet -U langchain_openai langchain_core langgraph==0.3.21"
   ]
  },
  {
   "cell_type": "code",
   "execution_count": null,
   "id": "977ee7fd-642b-4ac5-9397-e0768d5fe11d",
   "metadata": {},
   "outputs": [],
   "source": []
  },
  {
   "cell_type": "code",
   "execution_count": 3,
   "id": "81c84631-922a-42cf-a5f7-95496c60fc89",
   "metadata": {},
   "outputs": [],
   "source": [
    "from langchain_openai import ChatOpenAI\n",
    "import openai"
   ]
  },
  {
   "cell_type": "markdown",
   "id": "de3cce0c-fc4c-4e87-b4b6-b675c27c79f0",
   "metadata": {},
   "source": [
    "### Model"
   ]
  },
  {
   "cell_type": "code",
   "execution_count": 4,
   "id": "c9f155dd-5422-4502-8a3f-ed32c3450411",
   "metadata": {},
   "outputs": [],
   "source": [
    "llm_model = ChatOpenAI(temperature=0.0, \n",
    "                        model=\"gpt-4-turbo\",\n",
    "                       openai_api_key=\"XXXXX\")"
   ]
  },
  {
   "cell_type": "code",
   "execution_count": null,
   "id": "af273b39-e595-44f8-bccc-73cea4536af3",
   "metadata": {},
   "outputs": [],
   "source": []
  },
  {
   "cell_type": "code",
   "execution_count": 5,
   "id": "6f8b4bce-9b08-4aad-bccf-9d599c5cb229",
   "metadata": {},
   "outputs": [],
   "source": [
    "from langchain_core.tools import tool\n",
    "from langchain_core.messages import HumanMessage, AIMessage\n",
    "from langchain_openai import ChatOpenAI\n",
    "from langgraph.graph import StateGraph, START, END"
   ]
  },
  {
   "cell_type": "markdown",
   "id": "806d593c-466c-4c62-a176-534f071f8c9d",
   "metadata": {},
   "source": [
    "### Tools"
   ]
  },
  {
   "cell_type": "code",
   "execution_count": 7,
   "id": "8f51cedf-a48e-4c82-bf19-c2f78a6ab2da",
   "metadata": {},
   "outputs": [],
   "source": [
    "@tool\n",
    "def multiply(a: int, b: int) -> int:\n",
    "    \"\"\"Multiply two numbers.\"\"\"\n",
    "    return a * b\n",
    "\n",
    "@tool\n",
    "def add(a: int, b: int) -> int:\n",
    "    \"\"\"add two numbers.\"\"\"\n",
    "    return a + b\n",
    "\n",
    "tools_map = {\n",
    "    \"multiply\": multiply,\n",
    "    \"add\": add\n",
    "}"
   ]
  },
  {
   "cell_type": "code",
   "execution_count": null,
   "id": "81a24067-d9d1-473a-8912-f6b0cb292d1c",
   "metadata": {},
   "outputs": [],
   "source": []
  },
  {
   "cell_type": "code",
   "execution_count": 8,
   "id": "f03de85a-39f9-46ca-a293-19d9c3fe7837",
   "metadata": {},
   "outputs": [],
   "source": [
    "llm_with_tools = llm_model.bind_tools(list(tools_map.values()))"
   ]
  },
  {
   "cell_type": "code",
   "execution_count": 9,
   "id": "080b6230-730e-4145-b6a0-7bf341246c39",
   "metadata": {},
   "outputs": [
    {
     "data": {
      "text/plain": [
       "RunnableBinding(bound=ChatOpenAI(client=<openai.resources.chat.completions.completions.Completions object at 0x110628bd0>, async_client=<openai.resources.chat.completions.completions.AsyncCompletions object at 0x10fe47690>, root_client=<openai.OpenAI object at 0x11027c750>, root_async_client=<openai.AsyncOpenAI object at 0x1115d0a10>, model_name='gpt-4-turbo', temperature=0.0, model_kwargs={}, openai_api_key=SecretStr('**********')), kwargs={'tools': [{'type': 'function', 'function': {'name': 'multiply', 'description': 'Multiply two numbers.', 'parameters': {'properties': {'a': {'type': 'integer'}, 'b': {'type': 'integer'}}, 'required': ['a', 'b'], 'type': 'object'}}}, {'type': 'function', 'function': {'name': 'add', 'description': 'add two numbers.', 'parameters': {'properties': {'a': {'type': 'integer'}, 'b': {'type': 'integer'}}, 'required': ['a', 'b'], 'type': 'object'}}}]}, config={}, config_factories=[])"
      ]
     },
     "execution_count": 9,
     "metadata": {},
     "output_type": "execute_result"
    }
   ],
   "source": [
    "llm_with_tools"
   ]
  },
  {
   "cell_type": "code",
   "execution_count": null,
   "id": "4ac379eb-4107-4381-9d21-b32c373db0a6",
   "metadata": {},
   "outputs": [],
   "source": []
  },
  {
   "cell_type": "code",
   "execution_count": 10,
   "id": "6c9cd34b-efa7-472d-951c-7478388a7a8c",
   "metadata": {},
   "outputs": [],
   "source": [
    "def llm_node(state: dict) -> dict:\n",
    "    messages = state.get(\"messages\", [])\n",
    "    response = llm_with_tools.invoke(messages)\n",
    "    updated_state = {\"messages\": messages + [response]}\n",
    "\n",
    "    if response.tool_calls:\n",
    "        for tool_call in response.tool_calls:\n",
    "            name = tool_call[\"name\"]\n",
    "            args = tool_call[\"args\"]\n",
    "            tool = tools_map.get(name)\n",
    "            if tool:\n",
    "                result = tool.invoke(args)\n",
    "                updated_state[\"messages\"].append(AIMessage(content=str(result)))\n",
    "                updated_state[\"result\"] = result\n",
    "            else:\n",
    "                updated_state[\"messages\"].append(AIMessage(content=f\"Unknown tool: {name}\"))\n",
    "\n",
    "    return updated_state"
   ]
  },
  {
   "cell_type": "code",
   "execution_count": null,
   "id": "4f67bf8d-75fb-49cd-9091-8f59adc9e886",
   "metadata": {},
   "outputs": [],
   "source": []
  },
  {
   "cell_type": "markdown",
   "id": "eed5548a-b52f-4798-bddc-6ed04b69b8dd",
   "metadata": {},
   "source": [
    "### Graph"
   ]
  },
  {
   "cell_type": "code",
   "execution_count": 11,
   "id": "f14ccd5b-5460-428c-8c96-0798fcf59c81",
   "metadata": {},
   "outputs": [],
   "source": [
    "from langgraph.graph import StateGraph, START, END\n",
    "\n",
    "builder = StateGraph(dict)\n",
    "builder.set_entry_point(\"llm_node\")\n",
    "builder.add_node(\"llm_node\", llm_node)\n",
    "builder.add_edge(\"llm_node\", END)\n",
    "\n",
    "graph = builder.compile()"
   ]
  },
  {
   "cell_type": "code",
   "execution_count": 12,
   "id": "b93cb964-bd6b-4198-865a-b715b934737a",
   "metadata": {},
   "outputs": [
    {
     "data": {
      "image/png": "[encoded data removed]",
      "text/plain": [
       "<langgraph.graph.state.CompiledStateGraph object at 0x115c28790>"
      ]
     },
     "execution_count": 12,
     "metadata": {},
     "output_type": "execute_result"
    }
   ],
   "source": [
    "graph"
   ]
  },
  {
   "cell_type": "code",
   "execution_count": null,
   "id": "18129ea0-10d5-49ee-b8f5-3fc38967b7a1",
   "metadata": {},
   "outputs": [],
   "source": []
  },
  {
   "cell_type": "code",
   "execution_count": 15,
   "id": "5341138a-6399-4cf5-8f60-e89abefa26c5",
   "metadata": {},
   "outputs": [],
   "source": [
    "input_state = {\n",
    "    \"messages\": [HumanMessage(content=\"Who are you\")]\n",
    "}\n",
    "\n",
    "result = graph.invoke(input_state)"
   ]
  },
  {
   "cell_type": "code",
   "execution_count": 16,
   "id": "248851a3-f73d-40ef-8721-75663c145495",
   "metadata": {},
   "outputs": [
    {
     "name": "stdout",
     "output_type": "stream",
     "text": [
      "Who are you\n",
      "I'm an AI developed by OpenAI, designed to assist with a variety of tasks and answer questions to the best of my knowledge and abilities. How can I help you today?\n"
     ]
    }
   ],
   "source": [
    "for msg in result[\"messages\"]:\n",
    "    print(msg.content)"
   ]
  },
  {
   "cell_type": "code",
   "execution_count": null,
   "id": "35466676-cdc0-4af6-94df-5d71f380eaed",
   "metadata": {},
   "outputs": [],
   "source": []
  }
 ],
 "metadata": {
  "kernelspec": {
   "display_name": "Python 3 (ipykernel)",
   "language": "python",
   "name": "python3"
  },
  "language_info": {
   "codemirror_mode": {
    "name": "ipython",
    "version": 3
   },
   "file_extension": ".py",
   "mimetype": "text/x-python",
   "name": "python",
   "nbconvert_exporter": "python",
   "pygments_lexer": "ipython3",
   "version": "3.11.11"
  }
 },
 "nbformat": 4,
 "nbformat_minor": 5
}
