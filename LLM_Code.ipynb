{
 "cells": [
  {
   "cell_type": "code",
   "execution_count": 1,
   "id": "82b09f34-31f5-4f29-82c8-a309c16f3e38",
   "metadata": {},
   "outputs": [
    {
     "name": "stdout",
     "output_type": "stream",
     "text": [
      "Requirement already satisfied: langchain in /Users/vishnukumar/anaconda3/envs/Demo/lib/python3.11/site-packages (0.1.13)\n",
      "Requirement already satisfied: langchain-community in /Users/vishnukumar/anaconda3/envs/Demo/lib/python3.11/site-packages (0.0.38)\n",
      "Requirement already satisfied: langchain-core in /Users/vishnukumar/anaconda3/envs/Demo/lib/python3.11/site-packages (0.1.53)\n",
      "Requirement already satisfied: langchain-openai in /Users/vishnukumar/anaconda3/envs/Demo/lib/python3.11/site-packages (0.1.7)\n",
      "Requirement already satisfied: PyYAML>=5.3 in /Users/vishnukumar/anaconda3/envs/Demo/lib/python3.11/site-packages (from langchain) (6.0.2)\n",
      "Requirement already satisfied: SQLAlchemy<3,>=1.4 in /Users/vishnukumar/anaconda3/envs/Demo/lib/python3.11/site-packages (from langchain) (2.0.40)\n",
      "Requirement already satisfied: aiohttp<4.0.0,>=3.8.3 in /Users/vishnukumar/anaconda3/envs/Demo/lib/python3.11/site-packages (from langchain) (3.11.14)\n",
      "Requirement already satisfied: dataclasses-json<0.7,>=0.5.7 in /Users/vishnukumar/anaconda3/envs/Demo/lib/python3.11/site-packages (from langchain) (0.6.7)\n",
      "Requirement already satisfied: jsonpatch<2.0,>=1.33 in /Users/vishnukumar/anaconda3/envs/Demo/lib/python3.11/site-packages (from langchain) (1.33)\n",
      "Requirement already satisfied: langchain-text-splitters<0.1,>=0.0.1 in /Users/vishnukumar/anaconda3/envs/Demo/lib/python3.11/site-packages (from langchain) (0.0.2)\n",
      "Requirement already satisfied: langsmith<0.2.0,>=0.1.17 in /Users/vishnukumar/anaconda3/envs/Demo/lib/python3.11/site-packages (from langchain) (0.1.147)\n",
      "Requirement already satisfied: numpy<2,>=1 in /Users/vishnukumar/anaconda3/envs/Demo/lib/python3.11/site-packages (from langchain) (1.26.4)\n",
      "Requirement already satisfied: pydantic<3,>=1 in /Users/vishnukumar/anaconda3/envs/Demo/lib/python3.11/site-packages (from langchain) (2.5.3)\n",
      "Requirement already satisfied: requests<3,>=2 in /Users/vishnukumar/anaconda3/envs/Demo/lib/python3.11/site-packages (from langchain) (2.31.0)\n",
      "Requirement already satisfied: tenacity<9.0.0,>=8.1.0 in /Users/vishnukumar/anaconda3/envs/Demo/lib/python3.11/site-packages (from langchain) (8.5.0)\n",
      "Requirement already satisfied: packaging<24.0,>=23.2 in /Users/vishnukumar/anaconda3/envs/Demo/lib/python3.11/site-packages (from langchain-core) (23.2)\n",
      "Requirement already satisfied: openai<2.0.0,>=1.24.0 in /Users/vishnukumar/anaconda3/envs/Demo/lib/python3.11/site-packages (from langchain-openai) (1.76.0)\n",
      "Requirement already satisfied: tiktoken<1,>=0.7 in /Users/vishnukumar/anaconda3/envs/Demo/lib/python3.11/site-packages (from langchain-openai) (0.9.0)\n",
      "Requirement already satisfied: aiohappyeyeballs>=2.3.0 in /Users/vishnukumar/anaconda3/envs/Demo/lib/python3.11/site-packages (from aiohttp<4.0.0,>=3.8.3->langchain) (2.6.1)\n",
      "Requirement already satisfied: aiosignal>=1.1.2 in /Users/vishnukumar/anaconda3/envs/Demo/lib/python3.11/site-packages (from aiohttp<4.0.0,>=3.8.3->langchain) (1.3.2)\n",
      "Requirement already satisfied: attrs>=17.3.0 in /Users/vishnukumar/anaconda3/envs/Demo/lib/python3.11/site-packages (from aiohttp<4.0.0,>=3.8.3->langchain) (25.3.0)\n",
      "Requirement already satisfied: frozenlist>=1.1.1 in /Users/vishnukumar/anaconda3/envs/Demo/lib/python3.11/site-packages (from aiohttp<4.0.0,>=3.8.3->langchain) (1.5.0)\n",
      "Requirement already satisfied: multidict<7.0,>=4.5 in /Users/vishnukumar/anaconda3/envs/Demo/lib/python3.11/site-packages (from aiohttp<4.0.0,>=3.8.3->langchain) (6.2.0)\n",
      "Requirement already satisfied: propcache>=0.2.0 in /Users/vishnukumar/anaconda3/envs/Demo/lib/python3.11/site-packages (from aiohttp<4.0.0,>=3.8.3->langchain) (0.3.1)\n",
      "Requirement already satisfied: yarl<2.0,>=1.17.0 in /Users/vishnukumar/anaconda3/envs/Demo/lib/python3.11/site-packages (from aiohttp<4.0.0,>=3.8.3->langchain) (1.18.3)\n",
      "Requirement already satisfied: marshmallow<4.0.0,>=3.18.0 in /Users/vishnukumar/anaconda3/envs/Demo/lib/python3.11/site-packages (from dataclasses-json<0.7,>=0.5.7->langchain) (3.26.1)\n",
      "Requirement already satisfied: typing-inspect<1,>=0.4.0 in /Users/vishnukumar/anaconda3/envs/Demo/lib/python3.11/site-packages (from dataclasses-json<0.7,>=0.5.7->langchain) (0.9.0)\n",
      "Requirement already satisfied: jsonpointer>=1.9 in /Users/vishnukumar/anaconda3/envs/Demo/lib/python3.11/site-packages (from jsonpatch<2.0,>=1.33->langchain) (3.0.0)\n",
      "Requirement already satisfied: httpx<1,>=0.23.0 in /Users/vishnukumar/anaconda3/envs/Demo/lib/python3.11/site-packages (from langsmith<0.2.0,>=0.1.17->langchain) (0.28.1)\n",
      "Requirement already satisfied: orjson<4.0.0,>=3.9.14 in /Users/vishnukumar/anaconda3/envs/Demo/lib/python3.11/site-packages (from langsmith<0.2.0,>=0.1.17->langchain) (3.10.16)\n",
      "Requirement already satisfied: requests-toolbelt<2.0.0,>=1.0.0 in /Users/vishnukumar/anaconda3/envs/Demo/lib/python3.11/site-packages (from langsmith<0.2.0,>=0.1.17->langchain) (1.0.0)\n",
      "Requirement already satisfied: anyio<5,>=3.5.0 in /Users/vishnukumar/anaconda3/envs/Demo/lib/python3.11/site-packages (from openai<2.0.0,>=1.24.0->langchain-openai) (4.9.0)\n",
      "Requirement already satisfied: distro<2,>=1.7.0 in /Users/vishnukumar/anaconda3/envs/Demo/lib/python3.11/site-packages (from openai<2.0.0,>=1.24.0->langchain-openai) (1.9.0)\n",
      "Requirement already satisfied: jiter<1,>=0.4.0 in /Users/vishnukumar/anaconda3/envs/Demo/lib/python3.11/site-packages (from openai<2.0.0,>=1.24.0->langchain-openai) (0.9.0)\n",
      "Requirement already satisfied: sniffio in /Users/vishnukumar/anaconda3/envs/Demo/lib/python3.11/site-packages (from openai<2.0.0,>=1.24.0->langchain-openai) (1.3.1)\n",
      "Requirement already satisfied: tqdm>4 in /Users/vishnukumar/anaconda3/envs/Demo/lib/python3.11/site-packages (from openai<2.0.0,>=1.24.0->langchain-openai) (4.67.1)\n",
      "Requirement already satisfied: typing-extensions<5,>=4.11 in /Users/vishnukumar/anaconda3/envs/Demo/lib/python3.11/site-packages (from openai<2.0.0,>=1.24.0->langchain-openai) (4.13.0)\n",
      "Requirement already satisfied: annotated-types>=0.4.0 in /Users/vishnukumar/anaconda3/envs/Demo/lib/python3.11/site-packages (from pydantic<3,>=1->langchain) (0.7.0)\n",
      "Requirement already satisfied: pydantic-core==2.14.6 in /Users/vishnukumar/anaconda3/envs/Demo/lib/python3.11/site-packages (from pydantic<3,>=1->langchain) (2.14.6)\n",
      "Requirement already satisfied: charset-normalizer<4,>=2 in /Users/vishnukumar/anaconda3/envs/Demo/lib/python3.11/site-packages (from requests<3,>=2->langchain) (3.4.1)\n",
      "Requirement already satisfied: idna<4,>=2.5 in /Users/vishnukumar/anaconda3/envs/Demo/lib/python3.11/site-packages (from requests<3,>=2->langchain) (3.10)\n",
      "Requirement already satisfied: urllib3<3,>=1.21.1 in /Users/vishnukumar/anaconda3/envs/Demo/lib/python3.11/site-packages (from requests<3,>=2->langchain) (2.3.0)\n",
      "Requirement already satisfied: certifi>=2017.4.17 in /Users/vishnukumar/anaconda3/envs/Demo/lib/python3.11/site-packages (from requests<3,>=2->langchain) (2025.1.31)\n",
      "Requirement already satisfied: greenlet>=1 in /Users/vishnukumar/anaconda3/envs/Demo/lib/python3.11/site-packages (from SQLAlchemy<3,>=1.4->langchain) (3.1.1)\n",
      "Requirement already satisfied: regex>=2022.1.18 in /Users/vishnukumar/anaconda3/envs/Demo/lib/python3.11/site-packages (from tiktoken<1,>=0.7->langchain-openai) (2024.11.6)\n",
      "Requirement already satisfied: httpcore==1.* in /Users/vishnukumar/anaconda3/envs/Demo/lib/python3.11/site-packages (from httpx<1,>=0.23.0->langsmith<0.2.0,>=0.1.17->langchain) (1.0.7)\n",
      "Requirement already satisfied: h11<0.15,>=0.13 in /Users/vishnukumar/anaconda3/envs/Demo/lib/python3.11/site-packages (from httpcore==1.*->httpx<1,>=0.23.0->langsmith<0.2.0,>=0.1.17->langchain) (0.14.0)\n",
      "Requirement already satisfied: mypy-extensions>=0.3.0 in /Users/vishnukumar/anaconda3/envs/Demo/lib/python3.11/site-packages (from typing-inspect<1,>=0.4.0->dataclasses-json<0.7,>=0.5.7->langchain) (1.0.0)\n"
     ]
    }
   ],
   "source": [
    "!pip install langchain langchain-community langchain-core langchain-openai"
   ]
  },
  {
   "cell_type": "code",
   "execution_count": null,
   "id": "b5fd1aab-e8ac-4fa4-9a55-162b8fe73054",
   "metadata": {},
   "outputs": [],
   "source": []
  },
  {
   "cell_type": "code",
   "execution_count": 2,
   "id": "eef185d3-ecb9-4860-8dca-761c7c269523",
   "metadata": {},
   "outputs": [],
   "source": [
    "from langchain_openai import ChatOpenAI\n",
    "import openai\n",
    "from langchain_community.callbacks import get_openai_callback"
   ]
  },
  {
   "cell_type": "code",
   "execution_count": null,
   "id": "e44d4b5a-b9af-463e-bc4b-642efeab141f",
   "metadata": {},
   "outputs": [],
   "source": []
  },
  {
   "cell_type": "code",
   "execution_count": 3,
   "id": "2b574f88-628f-40e2-90b0-16dfce1d2c9c",
   "metadata": {},
   "outputs": [],
   "source": [
    "llm_model = ChatOpenAI(temperature=0.0, \n",
    "                        model=\"gpt-4-turbo\",\n",
    "                       openai_api_key=\"XXXXX\")"
   ]
  },
  {
   "cell_type": "code",
   "execution_count": null,
   "id": "08be7288-aa3a-4cdf-9f9a-0cbb1a7c7c71",
   "metadata": {},
   "outputs": [],
   "source": []
  },
  {
   "cell_type": "code",
   "execution_count": 4,
   "id": "c8bbb1e0-c120-447a-8c87-54b0a7c24453",
   "metadata": {},
   "outputs": [],
   "source": [
    "prompt = \"Who invented the electric bulb and in which year?\""
   ]
  },
  {
   "cell_type": "code",
   "execution_count": null,
   "id": "506f7a33-09b6-4dec-9247-136c6e9be618",
   "metadata": {},
   "outputs": [],
   "source": []
  },
  {
   "cell_type": "code",
   "execution_count": 5,
   "id": "044cab86-681a-46bf-aac8-5f51c44d77c6",
   "metadata": {},
   "outputs": [],
   "source": [
    "with get_openai_callback() as cb:\n",
    "    response = llm_model.invoke(prompt)"
   ]
  },
  {
   "cell_type": "code",
   "execution_count": null,
   "id": "47c2038f-4ab8-499b-a4c4-d6879055514d",
   "metadata": {},
   "outputs": [],
   "source": []
  },
  {
   "cell_type": "code",
   "execution_count": 6,
   "id": "5fff2400-5584-4d31-972c-a76c593afc60",
   "metadata": {},
   "outputs": [
    {
     "data": {
      "text/plain": [
       "AIMessage(content='The invention of the electric light bulb is often attributed to Thomas Edison, who developed a practical and commercially viable incandescent bulb. Edison filed his first patent application for \"Improvement In Electric Lights\" in October 1879. However, it\\'s important to note that several inventors were working on similar technologies around the same time, and earlier versions of electric lights were developed by others like Humphry Davy, Joseph Swan, and Hiram Maxim. Edison\\'s success was largely due to creating a complete system for electrical illumination including generators, wires, and the bulbs themselves, which made widespread use feasible.', response_metadata={'token_usage': {'completion_tokens': 122, 'prompt_tokens': 17, 'total_tokens': 139, 'completion_tokens_details': {'accepted_prediction_tokens': 0, 'audio_tokens': 0, 'reasoning_tokens': 0, 'rejected_prediction_tokens': 0}, 'prompt_tokens_details': {'audio_tokens': 0, 'cached_tokens': 0}}, 'model_name': 'gpt-4-turbo', 'system_fingerprint': 'fp_906f0fa0a3', 'finish_reason': 'stop', 'logprobs': None}, id='run-6da6add9-6f61-4376-a89b-0c16cba4006b-0')"
      ]
     },
     "execution_count": 6,
     "metadata": {},
     "output_type": "execute_result"
    }
   ],
   "source": [
    "response"
   ]
  },
  {
   "cell_type": "code",
   "execution_count": null,
   "id": "d3c5d5ec-51d7-424f-9845-9a10f6a257dc",
   "metadata": {},
   "outputs": [],
   "source": []
  },
  {
   "cell_type": "code",
   "execution_count": 7,
   "id": "0465f077-3fb8-4a1d-97b2-a79d57430f5b",
   "metadata": {},
   "outputs": [
    {
     "data": {
      "text/plain": [
       "'The invention of the electric light bulb is often attributed to Thomas Edison, who developed a practical and commercially viable incandescent bulb. Edison filed his first patent application for \"Improvement In Electric Lights\" in October 1879. However, it\\'s important to note that several inventors were working on similar technologies around the same time, and earlier versions of electric lights were developed by others like Humphry Davy, Joseph Swan, and Hiram Maxim. Edison\\'s success was largely due to creating a complete system for electrical illumination including generators, wires, and the bulbs themselves, which made widespread use feasible.'"
      ]
     },
     "execution_count": 7,
     "metadata": {},
     "output_type": "execute_result"
    }
   ],
   "source": [
    "response.content"
   ]
  },
  {
   "cell_type": "code",
   "execution_count": 8,
   "id": "93900e98-1f48-4d8d-bb3b-889b2159cac0",
   "metadata": {},
   "outputs": [
    {
     "data": {
      "text/plain": [
       "Tokens Used: 139\n",
       "\tPrompt Tokens: 17\n",
       "\tCompletion Tokens: 122\n",
       "Successful Requests: 1\n",
       "Total Cost (USD): $0.0038299999999999996"
      ]
     },
     "execution_count": 8,
     "metadata": {},
     "output_type": "execute_result"
    }
   ],
   "source": [
    "cb"
   ]
  },
  {
   "cell_type": "code",
   "execution_count": null,
   "id": "0358bf86-3acd-4d7d-a0ba-b25a4a37da58",
   "metadata": {},
   "outputs": [],
   "source": []
  }
 ],
 "metadata": {
  "kernelspec": {
   "display_name": "Python 3 (ipykernel)",
   "language": "python",
   "name": "python3"
  },
  "language_info": {
   "codemirror_mode": {
    "name": "ipython",
    "version": 3
   },
   "file_extension": ".py",
   "mimetype": "text/x-python",
   "name": "python",
   "nbconvert_exporter": "python",
   "pygments_lexer": "ipython3",
   "version": "3.11.11"
  }
 },
 "nbformat": 4,
 "nbformat_minor": 5
}
